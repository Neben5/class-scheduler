{
 "cells": [
  {
   "cell_type": "code",
   "execution_count": 22,
   "metadata": {},
   "outputs": [],
   "source": [
    "import pandas as pd\n",
    "%matplotlib inline\n",
    "import plotly.offline as py\n",
    "import plotly.graph_objs as go"
   ]
  },
  {
   "cell_type": "code",
   "execution_count": 23,
   "metadata": {},
   "outputs": [],
   "source": [
    "fileOne=pd.read_csv('students1.txt',sep=',', names=['id', 'grade', 'english', 'hist', 'sci', 'pe', 'math'])"
   ]
  },
  {
   "cell_type": "code",
   "execution_count": 24,
   "metadata": {},
   "outputs": [],
   "source": [
    "fileTwo=pd.read_csv('students2.txt',sep=',', names=['id', 'grade', 'english', 'hist', 'sci', 'pe', 'math'])"
   ]
  },
  {
   "cell_type": "code",
   "execution_count": 25,
   "metadata": {},
   "outputs": [],
   "source": [
    "fileThree=pd.read_csv('students3.txt',sep=',', names=['id', 'grade', 'english', 'hist', 'sci', 'pe', 'math'])"
   ]
  },
  {
   "cell_type": "code",
   "execution_count": 26,
   "metadata": {},
   "outputs": [],
   "source": [
    "fileFour=pd.read_csv('students4.txt',sep=',', names=['id', 'grade', 'english', 'hist', 'sci', 'pe', 'math'])"
   ]
  },
  {
   "cell_type": "code",
   "execution_count": 27,
   "metadata": {},
   "outputs": [],
   "source": [
    "gbg_One=fileOne.groupby('grade')"
   ]
  },
  {
   "cell_type": "code",
   "execution_count": 28,
   "metadata": {},
   "outputs": [],
   "source": [
    "gbg_Two=fileTwo.groupby('grade')"
   ]
  },
  {
   "cell_type": "code",
   "execution_count": 29,
   "metadata": {},
   "outputs": [],
   "source": [
    "gbg_Three=fileThree.groupby('grade')"
   ]
  },
  {
   "cell_type": "code",
   "execution_count": 30,
   "metadata": {},
   "outputs": [],
   "source": [
    "gbg_Four=fileFour.groupby('grade')"
   ]
  },
  {
   "cell_type": "code",
   "execution_count": 31,
   "metadata": {},
   "outputs": [],
   "source": [
    "file1G1=gbg_One.describe()['id']['count'][1]\n",
    "\n",
    "file1G2=gbg_One.describe()['id']['count'][2]\n",
    "\n",
    "file1G3=gbg_One.describe()['id']['count'][3]\n",
    "\n",
    "file1G4=gbg_One.describe()['id']['count'][4]"
   ]
  },
  {
   "cell_type": "code",
   "execution_count": 32,
   "metadata": {},
   "outputs": [],
   "source": [
    "file2G1=gbg_Two.describe()['id']['count'][1]\n",
    "\n",
    "file2G2=gbg_Two.describe()['id']['count'][2]\n",
    "\n",
    "file2G3=gbg_Two.describe()['id']['count'][3]\n",
    "\n",
    "file2G4=gbg_Two.describe()['id']['count'][4]"
   ]
  },
  {
   "cell_type": "code",
   "execution_count": 33,
   "metadata": {},
   "outputs": [],
   "source": [
    "file3G1=gbg_Three.describe()['id']['count'][1]\n",
    "\n",
    "file3G2=gbg_Three.describe()['id']['count'][2]\n",
    "\n",
    "file3G3=gbg_Three.describe()['id']['count'][3]\n",
    "\n",
    "file3G4=gbg_Three.describe()['id']['count'][4]"
   ]
  },
  {
   "cell_type": "code",
   "execution_count": 34,
   "metadata": {},
   "outputs": [],
   "source": [
    "file4G1=gbg_Three.describe()['id']['count'][1]\n",
    "\n",
    "file4G2=gbg_Three.describe()['id']['count'][2]\n",
    "\n",
    "file4G3=gbg_Three.describe()['id']['count'][3]\n",
    "\n",
    "file4G4=gbg_Three.describe()['id']['count'][4]\n"
   ]
  },
  {
   "cell_type": "code",
   "execution_count": 35,
   "metadata": {},
   "outputs": [
    {
     "data": {
      "text/plain": [
       "'file:///home/ben/Desktop/file1Plot.html'"
      ]
     },
     "execution_count": 35,
     "metadata": {},
     "output_type": "execute_result"
    }
   ],
   "source": [
    "labels = ['9','10','11','12']\n",
    "values = [file1G1,file1G2,file1G3,file1G4]\n",
    "\n",
    "trace = go.Pie(labels=labels, values=values)\n",
    "\n",
    "py.plot([trace], filename='file1Plot.html')"
   ]
  },
  {
   "cell_type": "code",
   "execution_count": 36,
   "metadata": {},
   "outputs": [
    {
     "data": {
      "text/plain": [
       "'file:///home/ben/Desktop/file2Plot.html'"
      ]
     },
     "execution_count": 36,
     "metadata": {},
     "output_type": "execute_result"
    }
   ],
   "source": [
    "labels = ['9','10','11','12']\n",
    "values = [file2G1,file2G2,file2G3,file2G4]\n",
    "\n",
    "trace = go.Pie(labels=labels, values=values)\n",
    "\n",
    "py.plot([trace], filename='file2Plot.html')"
   ]
  },
  {
   "cell_type": "code",
   "execution_count": 37,
   "metadata": {},
   "outputs": [
    {
     "data": {
      "text/plain": [
       "'file:///home/ben/Desktop/file3Plot.html'"
      ]
     },
     "execution_count": 37,
     "metadata": {},
     "output_type": "execute_result"
    }
   ],
   "source": [
    "labels = ['9','10','11','12']\n",
    "values = [file3G1,file3G2,file3G3,file3G4]\n",
    "\n",
    "trace = go.Pie(labels=labels, values=values)\n",
    "\n",
    "py.plot([trace], filename='file3Plot.html')"
   ]
  },
  {
   "cell_type": "code",
   "execution_count": 38,
   "metadata": {},
   "outputs": [
    {
     "data": {
      "text/plain": [
       "'file:///home/ben/Desktop/file4Plot.html'"
      ]
     },
     "execution_count": 38,
     "metadata": {},
     "output_type": "execute_result"
    }
   ],
   "source": [
    "labels = ['9','10','11','12']\n",
    "values = [file4G1,file4G2,file4G3,file4G4]\n",
    "\n",
    "trace = go.Pie(labels=labels, values=values)\n",
    "\n",
    "py.plot([trace], filename='file4Plot.html')"
   ]
  },
  {
   "cell_type": "code",
   "execution_count": 19,
   "metadata": {},
   "outputs": [
    {
     "data": {
      "text/plain": [
       "\u001b[0;31mSignature:\u001b[0m \u001b[0mpy\u001b[0m\u001b[0;34m.\u001b[0m\u001b[0mplot\u001b[0m\u001b[0;34m(\u001b[0m\u001b[0mfigure_or_data\u001b[0m\u001b[0;34m,\u001b[0m \u001b[0mshow_link\u001b[0m\u001b[0;34m=\u001b[0m\u001b[0mTrue\u001b[0m\u001b[0;34m,\u001b[0m \u001b[0mlink_text\u001b[0m\u001b[0;34m=\u001b[0m\u001b[0;34m'Export to plot.ly'\u001b[0m\u001b[0;34m,\u001b[0m \u001b[0mvalidate\u001b[0m\u001b[0;34m=\u001b[0m\u001b[0mTrue\u001b[0m\u001b[0;34m,\u001b[0m \u001b[0moutput_type\u001b[0m\u001b[0;34m=\u001b[0m\u001b[0;34m'file'\u001b[0m\u001b[0;34m,\u001b[0m \u001b[0minclude_plotlyjs\u001b[0m\u001b[0;34m=\u001b[0m\u001b[0mTrue\u001b[0m\u001b[0;34m,\u001b[0m \u001b[0mfilename\u001b[0m\u001b[0;34m=\u001b[0m\u001b[0;34m'temp-plot.html'\u001b[0m\u001b[0;34m,\u001b[0m \u001b[0mauto_open\u001b[0m\u001b[0;34m=\u001b[0m\u001b[0mTrue\u001b[0m\u001b[0;34m,\u001b[0m \u001b[0mimage\u001b[0m\u001b[0;34m=\u001b[0m\u001b[0mNone\u001b[0m\u001b[0;34m,\u001b[0m \u001b[0mimage_filename\u001b[0m\u001b[0;34m=\u001b[0m\u001b[0;34m'plot_image'\u001b[0m\u001b[0;34m,\u001b[0m \u001b[0mimage_width\u001b[0m\u001b[0;34m=\u001b[0m\u001b[0;36m800\u001b[0m\u001b[0;34m,\u001b[0m \u001b[0mimage_height\u001b[0m\u001b[0;34m=\u001b[0m\u001b[0;36m600\u001b[0m\u001b[0;34m,\u001b[0m \u001b[0mconfig\u001b[0m\u001b[0;34m=\u001b[0m\u001b[0mNone\u001b[0m\u001b[0;34m)\u001b[0m\u001b[0;34m\u001b[0m\u001b[0m\n",
       "\u001b[0;31mDocstring:\u001b[0m\n",
       "Create a plotly graph locally as an HTML document or string.\n",
       "\n",
       "Example:\n",
       "```\n",
       "from plotly.offline import plot\n",
       "import plotly.graph_objs as go\n",
       "\n",
       "plot([go.Scatter(x=[1, 2, 3], y=[3, 2, 6])], filename='my-graph.html')\n",
       "# We can also download an image of the plot by setting the image parameter\n",
       "# to the image format we want\n",
       "plot([go.Scatter(x=[1, 2, 3], y=[3, 2, 6])], filename='my-graph.html'\n",
       "     image='jpeg')\n",
       "```\n",
       "More examples below.\n",
       "\n",
       "figure_or_data -- a plotly.graph_objs.Figure or plotly.graph_objs.Data or\n",
       "                  dict or list that describes a Plotly graph.\n",
       "                  See https://plot.ly/python/ for examples of\n",
       "                  graph descriptions.\n",
       "\n",
       "Keyword arguments:\n",
       "show_link (default=True) -- display a link in the bottom-right corner of\n",
       "    of the chart that will export the chart to Plotly Cloud or\n",
       "    Plotly Enterprise\n",
       "link_text (default='Export to plot.ly') -- the text of export link\n",
       "validate (default=True) -- validate that all of the keys in the figure\n",
       "    are valid? omit if your version of plotly.js has become outdated\n",
       "    with your version of graph_reference.json or if you need to include\n",
       "    extra, unnecessary keys in your figure.\n",
       "output_type ('file' | 'div' - default 'file') -- if 'file', then\n",
       "    the graph is saved as a standalone HTML file and `plot`\n",
       "    returns None.\n",
       "    If 'div', then `plot` returns a string that just contains the\n",
       "    HTML <div> that contains the graph and the script to generate the\n",
       "    graph.\n",
       "    Use 'file' if you want to save and view a single graph at a time\n",
       "    in a standalone HTML file.\n",
       "    Use 'div' if you are embedding these graphs in an HTML file with\n",
       "    other graphs or HTML markup, like a HTML report or an website.\n",
       "include_plotlyjs (default=True) -- If True, include the plotly.js\n",
       "    source code in the output file or string.\n",
       "    Set as False if your HTML file already contains a copy of the plotly.js\n",
       "    library.\n",
       "filename (default='temp-plot.html') -- The local filename to save the\n",
       "    outputted chart to. If the filename already exists, it will be\n",
       "    overwritten. This argument only applies if `output_type` is 'file'.\n",
       "auto_open (default=True) -- If True, open the saved file in a\n",
       "    web browser after saving.\n",
       "    This argument only applies if `output_type` is 'file'.\n",
       "image (default=None |'png' |'jpeg' |'svg' |'webp') -- This parameter sets\n",
       "    the format of the image to be downloaded, if we choose to download an\n",
       "    image. This parameter has a default value of None indicating that no\n",
       "    image should be downloaded. Please note: for higher resolution images\n",
       "    and more export options, consider making requests to our image servers.\n",
       "    Type: `help(py.image)` for more details.\n",
       "image_filename (default='plot_image') -- Sets the name of the file your\n",
       "    image will be saved to. The extension should not be included.\n",
       "image_height (default=600) -- Specifies the height of the image in `px`.\n",
       "image_width (default=800) -- Specifies the width of the image in `px`.\n",
       "config (default=None) -- Plot view options dictionary. Keyword arguments\n",
       "    `show_link` and `link_text` set the associated options in this\n",
       "    dictionary if it doesn't contain them already.\n",
       "\u001b[0;31mFile:\u001b[0m      ~/anaconda2/lib/python2.7/site-packages/plotly/offline/offline.py\n",
       "\u001b[0;31mType:\u001b[0m      function\n"
      ]
     },
     "metadata": {},
     "output_type": "display_data"
    }
   ],
   "source": [
    "py.plot?"
   ]
  }
 ],
 "metadata": {
  "kernelspec": {
   "display_name": "Python 2",
   "language": "python",
   "name": "python2"
  },
  "language_info": {
   "codemirror_mode": {
    "name": "ipython",
    "version": 2
   },
   "file_extension": ".py",
   "mimetype": "text/x-python",
   "name": "python",
   "nbconvert_exporter": "python",
   "pygments_lexer": "ipython2",
   "version": "2.7.15"
  }
 },
 "nbformat": 4,
 "nbformat_minor": 2
}
